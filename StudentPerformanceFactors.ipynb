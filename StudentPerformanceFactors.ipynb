{
  "cells": [
    {
      "cell_type": "markdown",
      "metadata": {},
      "source": [
        "# The Goal of Collecting this Dataset\n",
        "The Student Performance Factors dataset was collected to analyze Student Performance Predict Student Academic Performance Based on Various Factors such as Family Income ,Parental Involvement and School Type\n",
        "# Source of the Dataset\n",
        "You can access the dataset from Kaggle at the following link:\n",
        "[Student performance factors](https://www.kaggle.com/datasets/lainguyn123/student-performance-factors) \n",
        "# General Information about the Dataset\n",
        "- Number of Attributes (Columns): 20 attributes\n",
        "- Number of Objects (Rows): 6607 records\n",
        "- Class Name/Label: Exam Score (High-Medium-Low)\n",
        "- Attribute Types:\n",
        "- Numerical Attributes: Hours Studied,Access to Resources, Sleep Hours, Previous_Scores,Tutoring Sessions,Physical Activity,Exam Score.\n",
        "- Categorical Attributes: Parental Involvement, Gender, Distance from Home, Parental Education Level,Learning Disabilities,Peer Influence,School Type,Teacher Quality,Family Income,Internet Access,Motivation Level,Extracurricular Activities,Access to Resources."
      ]
    },
    {
      "cell_type": "code",
      "execution_count": 16,
      "metadata": {
        "trusted": true
      },
      "outputs": [
        {
          "name": "stdout",
          "output_type": "stream",
          "text": [
            "   Hours_Studied  Attendance Parental_Involvement Access_to_Resources  \\\n",
            "0             23          84                  Low                High   \n",
            "1             19          64                  Low              Medium   \n",
            "2             24          98               Medium              Medium   \n",
            "3             29          89                  Low              Medium   \n",
            "4             19          92               Medium              Medium   \n",
            "\n",
            "  Extracurricular_Activities  Sleep_Hours  Previous_Scores Motivation_Level  \\\n",
            "0                         No            7               73              Low   \n",
            "1                         No            8               59              Low   \n",
            "2                        Yes            7               91           Medium   \n",
            "3                        Yes            8               98           Medium   \n",
            "4                        Yes            6               65           Medium   \n",
            "\n",
            "  Internet_Access  Tutoring_Sessions Family_Income Teacher_Quality  \\\n",
            "0             Yes                  0           Low          Medium   \n",
            "1             Yes                  2        Medium          Medium   \n",
            "2             Yes                  2        Medium          Medium   \n",
            "3             Yes                  1        Medium          Medium   \n",
            "4             Yes                  3        Medium            High   \n",
            "\n",
            "  School_Type Peer_Influence  Physical_Activity Learning_Disabilities  \\\n",
            "0      Public       Positive                  3                    No   \n",
            "1      Public       Negative                  4                    No   \n",
            "2      Public        Neutral                  4                    No   \n",
            "3      Public       Negative                  4                    No   \n",
            "4      Public        Neutral                  4                    No   \n",
            "\n",
            "  Parental_Education_Level Distance_from_Home  Gender  Exam_Score  \n",
            "0              High School               Near    Male          67  \n",
            "1                  College           Moderate  Female          61  \n",
            "2             Postgraduate               Near    Male          74  \n",
            "3              High School           Moderate    Male          71  \n",
            "4                  College               Near  Female          70  \n",
            "Number of Rows: 6607\n",
            "Number of Columns: 20\n",
            "<class 'pandas.core.frame.DataFrame'>\n",
            "RangeIndex: 6607 entries, 0 to 6606\n",
            "Data columns (total 20 columns):\n",
            " #   Column                      Non-Null Count  Dtype \n",
            "---  ------                      --------------  ----- \n",
            " 0   Hours_Studied               6607 non-null   int64 \n",
            " 1   Attendance                  6607 non-null   int64 \n",
            " 2   Parental_Involvement        6607 non-null   object\n",
            " 3   Access_to_Resources         6607 non-null   object\n",
            " 4   Extracurricular_Activities  6607 non-null   object\n",
            " 5   Sleep_Hours                 6607 non-null   int64 \n",
            " 6   Previous_Scores             6607 non-null   int64 \n",
            " 7   Motivation_Level            6607 non-null   object\n",
            " 8   Internet_Access             6607 non-null   object\n",
            " 9   Tutoring_Sessions           6607 non-null   int64 \n",
            " 10  Family_Income               6607 non-null   object\n",
            " 11  Teacher_Quality             6529 non-null   object\n",
            " 12  School_Type                 6607 non-null   object\n",
            " 13  Peer_Influence              6607 non-null   object\n",
            " 14  Physical_Activity           6607 non-null   int64 \n",
            " 15  Learning_Disabilities       6607 non-null   object\n",
            " 16  Parental_Education_Level    6517 non-null   object\n",
            " 17  Distance_from_Home          6540 non-null   object\n",
            " 18  Gender                      6607 non-null   object\n",
            " 19  Exam_Score                  6607 non-null   int64 \n",
            "dtypes: int64(7), object(13)\n",
            "memory usage: 696.9+ KB\n",
            "None\n"
          ]
        }
      ],
      "source": [
        "import pandas as pd\n",
        "\n",
        "# Load the dataset\n",
        "df = pd.read_csv('../Dataset/StudentPerformanceFactors.csv')\n",
        "\n",
        "# Display the first 5 rows of the dataset\n",
        "print(df.head())\n",
        "\n",
        "# Display the number of rows and columns\n",
        "print(f\"Number of Rows: {df.shape[0]}\")\n",
        "print(f\"Number of Columns: {df.shape[1]}\")\n",
        "\n",
        "# Display information about the columns and their data types\n",
        "print(df.info())\n"
      ]
    },
    {
      "cell_type": "code",
      "execution_count": null,
      "metadata": {
        "trusted": true
      },
      "outputs": [],
      "source": []
    }
  ],
  "metadata": {
    "kernelspec": {
      "display_name": "Python (Pyodide)",
      "language": "python",
      "name": "python"
    },
    "language_info": {
      "codemirror_mode": {
        "name": "python",
        "version": 3
      },
      "file_extension": ".py",
      "mimetype": "text/x-python",
      "name": "python",
      "nbconvert_exporter": "python",
      "pygments_lexer": "ipython3",
      "version": "3.8"
    }
  },
  "nbformat": 4,
  "nbformat_minor": 4
}
